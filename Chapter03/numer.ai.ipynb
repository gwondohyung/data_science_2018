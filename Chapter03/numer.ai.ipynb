{
 "cells": [
  {
   "cell_type": "code",
   "execution_count": 16,
   "metadata": {},
   "outputs": [],
   "source": [
    "import pandas as pd\n",
    "import numpy as np\n",
    "from sklearn import metrics, preprocessing, linear_model\n",
    "import matplotlib.pyplot as plt\n",
    "colors = [\"#476A2A\", \"#7851B8\", \"#BD3430\", \"#4A2D4E\", \"#875525\",\n",
    "          \"#A83683\", \"#4E655E\", \"#853541\", \"#3A3120\", \"#535D8E\"]"
   ]
  },
  {
   "cell_type": "code",
   "execution_count": 2,
   "metadata": {},
   "outputs": [
    {
     "name": "stdout",
     "output_type": "stream",
     "text": [
      "Loading Data...\n",
      "(393613, 54)\n",
      "(243377, 54)\n"
     ]
    }
   ],
   "source": [
    "np.random.seed(0)\n",
    "\n",
    "print(\"Loading Data...\")\n",
    "training_data = pd.read_csv(\"numerai_training_data.csv\", header=0)\n",
    "prediction_data = pd.read_csv(\"numerai_tournament_data.csv\", header=0)\n",
    "\n",
    "print(training_data.shape)\n",
    "print(prediction_data.shape)"
   ]
  },
  {
   "cell_type": "code",
   "execution_count": 5,
   "metadata": {},
   "outputs": [],
   "source": [
    "'''\n",
    "전처리\n",
    "'''\n",
    "features = [f for f in list(training_data) if \"feature\" in f]\n",
    "# print(features[:5])\n",
    "X = training_data[features]\n",
    "# print(X.shape)\n",
    "Y = training_data[\"target\"]\n",
    "# print(Y.shape)\n",
    "x_prediction = prediction_data[features]\n",
    "# print(x_prediction.shape)\n",
    "ids = prediction_data[\"id\"]\n",
    "# print(ids.shape)"
   ]
  },
  {
   "cell_type": "code",
   "execution_count": 6,
   "metadata": {},
   "outputs": [
    {
     "name": "stderr",
     "output_type": "stream",
     "text": [
      "/Users/dohk/anaconda3/lib/python3.6/site-packages/sklearn/linear_model/logistic.py:1228: UserWarning: 'n_jobs' > 1 does not have any effect when 'solver' is set to 'liblinear'. Got 'n_jobs' = -1.\n",
      "  \" = {}.\".format(self.n_jobs))\n"
     ]
    }
   ],
   "source": [
    "#'''분석'''\n",
    "model = linear_model.LogisticRegression(n_jobs=-1) #모든 CPU 코어 활용\n",
    "model.fit(X, Y)\n",
    "\n",
    "y_prediction = model.predict_proba(x_prediction) \n",
    "# '''\n",
    "#     predict_proba\n",
    "#     0으로 예측하는 확신의 정도\n",
    "#     1로 예측하는 확신의 정도\n",
    "# '''\n",
    "results = y_prediction[:,1] #'''1로 예측한 확률만 선택'''"
   ]
  },
  {
   "cell_type": "code",
   "execution_count": 7,
   "metadata": {},
   "outputs": [
    {
     "name": "stdout",
     "output_type": "stream",
     "text": [
      "[1 0 0 1 1 1 1 0 0 1]\n"
     ]
    }
   ],
   "source": [
    "'''예측 결과'''\n",
    "y_pred = model.predict(x_prediction)\n",
    "print(y_pred[:10])"
   ]
  },
  {
   "cell_type": "code",
   "execution_count": 8,
   "metadata": {},
   "outputs": [
    {
     "name": "stdout",
     "output_type": "stream",
     "text": [
      "[[0.47319235 0.52680765]\n",
      " [0.50897178 0.49102822]\n",
      " [0.50918814 0.49081186]\n",
      " [0.46976612 0.53023388]\n",
      " [0.4643938  0.5356062 ]\n",
      " [0.46571597 0.53428403]\n",
      " [0.48067065 0.51932935]\n",
      " [0.5390022  0.4609978 ]\n",
      " [0.50043374 0.49956626]\n",
      " [0.45939698 0.54060302]]\n"
     ]
    }
   ],
   "source": [
    "print(y_prediction[:10])"
   ]
  },
  {
   "cell_type": "code",
   "execution_count": 9,
   "metadata": {},
   "outputs": [
    {
     "ename": "SyntaxError",
     "evalue": "invalid syntax (<ipython-input-9-9b5f60d5c6aa>, line 1)",
     "output_type": "error",
     "traceback": [
      "\u001b[0;36m  File \u001b[0;32m\"<ipython-input-9-9b5f60d5c6aa>\"\u001b[0;36m, line \u001b[0;32m1\u001b[0m\n\u001b[0;31m    print(results[:10]) '''id 별 probability. 제출할 내용'''\u001b[0m\n\u001b[0m                                                     ^\u001b[0m\n\u001b[0;31mSyntaxError\u001b[0m\u001b[0;31m:\u001b[0m invalid syntax\n"
     ]
    }
   ],
   "source": [
    "print(results[:10]) '''id 별 probability. 제출할 내용'''"
   ]
  },
  {
   "cell_type": "code",
   "execution_count": null,
   "metadata": {
    "collapsed": true
   },
   "outputs": [],
   "source": [
    "results_df = pd.DataFrame(data={'probability':results})\n",
    "joined = pd.DataFrame(ids).join(results_df)"
   ]
  },
  {
   "cell_type": "code",
   "execution_count": null,
   "metadata": {
    "collapsed": true
   },
   "outputs": [],
   "source": [
    "joined.to_csv(\"predictions.csv\", index=False)"
   ]
  },
  {
   "cell_type": "markdown",
   "metadata": {},
   "source": [
    "# logloss값\n",
    "\n",
    "http://fastml.com/revisiting-numerai/\n",
    "<img src=\"http://wiki.fast.ai/images/math/a/4/6/a4651d4ad311666c617d57c1dde37b28.png\"></img>\n",
    "http://wiki.fast.ai/index.php/Log_Loss\n",
    "binary classification이고, y가 0이나 1 둘 중의 하나의 값을 갖는 게 맞음\n",
    "1만 보니까, 20만개의 로그로스에 대한 합을 평균낸 결과가 사이트에 뜨는 logloss값\n",
    "\n",
    "정의에 의하면 0일 땐 probability값이 작아야 하고\n",
    "1일 땐 값이 커야 logloss값이 높아지게 된다.\n",
    "\n",
    "\n"
   ]
  },
  {
   "cell_type": "markdown",
   "metadata": {},
   "source": [
    "\n",
    "# Originality\n",
    "\n",
    "<img src=\"http://fastml.com/images/numerai/2017/two_sample_kolmogorov_smirnov_test.png\"></img>\n",
    "\n",
    "각 확률 구간별 빈도를 구하여 히스토그램을 구하고 Density Function을 통해 CDF를 만든다. 누적..\n",
    "\n",
    "다른 사람과의 차이를 구하여 가장 큰 차이값을 보이는 값이 threshold값 이상이어야 통과\n",
    "즉 다른이의 값의 분포가 차이가 나야 함"
   ]
  },
  {
   "cell_type": "markdown",
   "metadata": {},
   "source": [
    "# consistency\n",
    "\n",
    "일관성\n",
    "\n",
    "\n",
    "era별 prob 분포에 차이가 없어야 함\n"
   ]
  },
  {
   "cell_type": "markdown",
   "metadata": {},
   "source": [
    "# concordance\n",
    "\n",
    "조작 없어야 하고\n",
    "\n",
    "하나의 모델에서 결과물이 나와야"
   ]
  },
  {
   "cell_type": "code",
   "execution_count": null,
   "metadata": {
    "collapsed": true
   },
   "outputs": [],
   "source": []
  },
  {
   "cell_type": "code",
   "execution_count": 10,
   "metadata": {},
   "outputs": [],
   "source": [
    "from sklearn.ensemble import GradientBoostingClassifier\n",
    "model = GradientBoostingClassifier(learning_rate=0.01, random_state=1, max_depth=1, n_estimators=10) \n",
    "model.fit(X, Y)\n",
    "\n",
    "y_prediction = model.predict_proba(x_prediction) \n",
    "results = y_prediction[:,1]"
   ]
  },
  {
   "cell_type": "code",
   "execution_count": 11,
   "metadata": {
    "collapsed": true
   },
   "outputs": [],
   "source": [
    "results_df = pd.DataFrame(data={'probability':results})\n",
    "joined = pd.DataFrame(ids).join(results_df)\n",
    "joined.to_csv(\"predictions_gbrt.csv\", index=False)"
   ]
  },
  {
   "cell_type": "code",
   "execution_count": null,
   "metadata": {
    "collapsed": true
   },
   "outputs": [],
   "source": []
  },
  {
   "cell_type": "code",
   "execution_count": 12,
   "metadata": {
    "collapsed": true
   },
   "outputs": [],
   "source": [
    "from sklearn.manifold import TSNE\n",
    "tsne = TSNE(random_state=42) # fitting과 transform 동시에 해줌\n",
    "# use fit_transform instead of fit, as TSNE has no transform method\n",
    "digits_tsne = tsne.fit_transform(X[:10])\n",
    "\n",
    "from sklearn.ensemble import GradientBoostingClassifier\n",
    "model = GradientBoostingClassifier(learning_rate=0.01, random_state=1, max_depth=1, n_estimators=10) \n",
    "model.fit(X, Y)\n",
    "\n",
    "y_prediction = model.predict_proba(x_prediction) \n",
    "results = y_prediction[:,1]\n",
    "results_df = pd.DataFrame(data={'probability':results})\n",
    "joined = pd.DataFrame(ids).join(results_df)\n",
    "joined.to_csv(\"predictions_gbrt.csv\", index=False)"
   ]
  },
  {
   "cell_type": "code",
   "execution_count": 18,
   "metadata": {},
   "outputs": [
    {
     "ename": "IndexError",
     "evalue": "index 10 is out of bounds for axis 0 with size 10",
     "output_type": "error",
     "traceback": [
      "\u001b[0;31m---------------------------------------------------------------------------\u001b[0m",
      "\u001b[0;31mIndexError\u001b[0m                                Traceback (most recent call last)",
      "\u001b[0;32m<ipython-input-18-8cf9f9ef6c25>\u001b[0m in \u001b[0;36m<module>\u001b[0;34m()\u001b[0m\n\u001b[1;32m      4\u001b[0m \u001b[0;32mfor\u001b[0m \u001b[0mi\u001b[0m \u001b[0;32min\u001b[0m \u001b[0mrange\u001b[0m\u001b[0;34m(\u001b[0m\u001b[0mlen\u001b[0m\u001b[0;34m(\u001b[0m\u001b[0mX\u001b[0m\u001b[0;34m)\u001b[0m\u001b[0;34m)\u001b[0m\u001b[0;34m:\u001b[0m\u001b[0;34m\u001b[0m\u001b[0m\n\u001b[1;32m      5\u001b[0m     \u001b[0;31m# actually plot the digits as text instead of using scatter\u001b[0m\u001b[0;34m\u001b[0m\u001b[0;34m\u001b[0m\u001b[0m\n\u001b[0;32m----> 6\u001b[0;31m     plt.text(digits_tsne[i, 0], digits_tsne[i, 1], str(Y[i]),\n\u001b[0m\u001b[1;32m      7\u001b[0m              \u001b[0mcolor\u001b[0m \u001b[0;34m=\u001b[0m \u001b[0mcolors\u001b[0m\u001b[0;34m[\u001b[0m\u001b[0mY\u001b[0m\u001b[0;34m[\u001b[0m\u001b[0mi\u001b[0m\u001b[0;34m]\u001b[0m\u001b[0;34m]\u001b[0m\u001b[0;34m,\u001b[0m\u001b[0;34m\u001b[0m\u001b[0m\n\u001b[1;32m      8\u001b[0m              fontdict={'weight': 'bold', 'size': 2})\n",
      "\u001b[0;31mIndexError\u001b[0m: index 10 is out of bounds for axis 0 with size 10"
     ]
    }
   ],
   "source": [
    "plt.figure(figsize=(10, 10))\n",
    "plt.xlim(digits_tsne[:, 0].min(), digits_tsne[:, 0].max() + 1)\n",
    "plt.ylim(digits_tsne[:, 1].min(), digits_tsne[:, 1].max() + 1)\n",
    "for i in range(len(X)):\n",
    "    # actually plot the digits as text instead of using scatter\n",
    "    plt.text(digits_tsne[i, 0], digits_tsne[i, 1], str(Y[i]),\n",
    "             color = colors[Y[i]],\n",
    "             fontdict={'weight': 'bold', 'size': 9})\n",
    "plt.xlabel(\"t-SNE feature 0\")\n",
    "plt.xlabel(\"t-SNE feature 1\")"
   ]
  },
  {
   "cell_type": "code",
   "execution_count": null,
   "metadata": {
    "collapsed": true
   },
   "outputs": [],
   "source": []
  }
 ],
 "metadata": {
  "kernelspec": {
   "display_name": "Python 3",
   "language": "python",
   "name": "python3"
  },
  "language_info": {
   "codemirror_mode": {
    "name": "ipython",
    "version": 3
   },
   "file_extension": ".py",
   "mimetype": "text/x-python",
   "name": "python",
   "nbconvert_exporter": "python",
   "pygments_lexer": "ipython3",
   "version": "3.6.3"
  }
 },
 "nbformat": 4,
 "nbformat_minor": 2
}
