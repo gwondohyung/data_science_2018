{
 "cells": [
  {
   "cell_type": "markdown",
   "metadata": {},
   "source": [
    "# 분류 예측의 불확실성 추정"
   ]
  },
  {
   "cell_type": "markdown",
   "metadata": {},
   "source": [
    "#### intro"
   ]
  },
  {
   "cell_type": "code",
   "execution_count": 2,
   "metadata": {
    "collapsed": true
   },
   "outputs": [],
   "source": [
    "from sklearn.ensemble import GradientBoostingClassifier"
   ]
  },
  {
   "cell_type": "code",
   "execution_count": 3,
   "metadata": {
    "collapsed": true
   },
   "outputs": [],
   "source": [
    "from sklearn.datasets import make_circles"
   ]
  },
  {
   "cell_type": "code",
   "execution_count": 5,
   "metadata": {},
   "outputs": [],
   "source": [
    "X, y = make_circles(noise=0.25, factor=0.5, random_state=1)\n",
    "# 데이터에 노이즈를 추가하고, 내원과 외원 사이의 거리를 좁혔으며, 재구현성을 위해 시드를 줌"
   ]
  },
  {
   "cell_type": "code",
   "execution_count": null,
   "metadata": {
    "collapsed": true
   },
   "outputs": [],
   "source": [
    "'''\n",
    "make_circles(n_samples=100, shuffle=True, noise=None, random_state=None, factor=0.8)\n",
    "Docstring:\n",
    "Make a large circle containing a smaller circle in 2d.\n",
    "\n",
    "A simple toy dataset to visualize clustering and classification\n",
    "algorithms.\n",
    "\n",
    "Read more in the :ref:`User Guide <sample_generators>`.\n",
    "\n",
    "Parameters\n",
    "----------\n",
    "n_samples : int, optional (default=100)\n",
    "    The total number of points generated.\n",
    "\n",
    "shuffle : bool, optional (default=True)\n",
    "    Whether to shuffle the samples.\n",
    "\n",
    "noise : double or None (default=None)\n",
    "    Standard deviation of Gaussian noise added to the data.\n",
    "    데이터에 추가된 노이즈가 어느 정도의 표준 정규분포를 따를 지 결정\n",
    "\n",
    "random_state : int, RandomState instance or None, optional (default=None)\n",
    "    If int, random_state is the seed used by the random number generator;\n",
    "    int값으로 random_state가 주어지면 그 값은 시드다. 재구현성을 제공함\n",
    "    If RandomState instance, random_state is the random number generator;\n",
    "    If None, the random number generator is the RandomState instance used\n",
    "    by `np.random`.\n",
    "\n",
    "factor : double < 1 (default=.8)\n",
    "    Scale factor between inner and outer circle.\n",
    "    속에 있는 원과 바깥에 있는 원 사이의 거리\n",
    "\n",
    "Returns\n",
    "-------\n",
    "X : array of shape [n_samples, 2]\n",
    "    The generated samples.\n",
    "\n",
    "y : array of shape [n_samples]\n",
    "    The integer labels (0 or 1) for class membership of each sample.\n",
    "    \n",
    "    X와 y를 return(numpy.ndarray)\n",
    "    \n",
    "File:      ~/anaconda3/lib/python3.6/site-packages/sklearn/datasets/samples_generator.py\n",
    "Type:      function\n",
    "'''"
   ]
  },
  {
   "cell_type": "code",
   "execution_count": 7,
   "metadata": {},
   "outputs": [
    {
     "data": {
      "text/plain": [
       "array([[-0.37748684, -0.0400769 ],\n",
       "       [ 0.02701955, -0.48423931],\n",
       "       [-0.36118825, -1.4007017 ],\n",
       "       [-0.68154165,  0.00577195],\n",
       "       [ 0.79966997, -0.1374838 ],\n",
       "       [-0.44067409,  0.65738634],\n",
       "       [-0.51680069, -0.64905973],\n",
       "       [-0.48984706, -0.07126104],\n",
       "       [-0.24030273,  0.4245925 ],\n",
       "       [-0.15480597,  0.3987051 ],\n",
       "       [ 0.22202915, -0.56040775],\n",
       "       [ 0.14845311, -0.83918918],\n",
       "       [ 0.55447318,  0.52619405],\n",
       "       [ 0.73776469, -0.06026285],\n",
       "       [ 0.56048402, -0.22169632],\n",
       "       [-0.24288865, -0.81429088],\n",
       "       [-1.16124083, -0.74556572],\n",
       "       [ 0.77723853, -0.37259801],\n",
       "       [-0.47721837, -0.37664926],\n",
       "       [ 0.11550395,  1.10356127],\n",
       "       [ 0.58181291,  0.19749795],\n",
       "       [-0.85136464,  0.13473314],\n",
       "       [ 0.47159612, -0.34434378],\n",
       "       [-0.0609338 ,  0.20718973],\n",
       "       [-0.72283227,  0.43895304],\n",
       "       [-0.38474582, -1.09366122],\n",
       "       [ 0.13179551, -0.53591877],\n",
       "       [-0.93195251, -0.462223  ],\n",
       "       [ 0.41735023, -0.76677992],\n",
       "       [-0.08532078, -0.77752591],\n",
       "       [-0.07320389,  0.79692206],\n",
       "       [ 0.88178468, -0.17459954],\n",
       "       [-0.00626974, -0.20708197],\n",
       "       [ 0.15324214, -0.39398671],\n",
       "       [ 0.16545985, -0.17406719],\n",
       "       [ 0.33256209, -1.02184884],\n",
       "       [ 0.86965498, -0.42679788],\n",
       "       [-0.12619675,  0.2429846 ],\n",
       "       [-1.09206083,  0.21332828],\n",
       "       [-0.64444698, -0.6431081 ],\n",
       "       [-0.02623139, -0.38891479],\n",
       "       [ 0.380554  ,  0.21174896],\n",
       "       [-0.34069153,  0.04731261],\n",
       "       [ 0.12192553,  0.34556373],\n",
       "       [-0.64320914, -0.41056425],\n",
       "       [ 0.40664642, -0.69430408],\n",
       "       [ 0.90086708, -0.71560874],\n",
       "       [ 0.02902536, -0.51762655],\n",
       "       [-0.69868661, -0.05917019],\n",
       "       [ 0.10788918,  0.14011132],\n",
       "       [ 0.68124793, -0.33103   ],\n",
       "       [ 0.22260691,  0.42263491],\n",
       "       [-1.1660942 ,  0.56999344],\n",
       "       [ 1.10502884,  0.68569017],\n",
       "       [ 0.44576743,  0.37933649],\n",
       "       [ 0.94124669, -0.01979147],\n",
       "       [-0.53708568,  0.42894791],\n",
       "       [ 0.29928333, -0.89756805],\n",
       "       [ 0.90589752,  0.2917448 ],\n",
       "       [-0.43881656, -0.06221795],\n",
       "       [-0.81519726, -0.66222818],\n",
       "       [-0.23666932,  0.51857152],\n",
       "       [-0.64588516,  0.27681644],\n",
       "       [ 0.79054537, -0.84229653],\n",
       "       [ 0.48373912, -0.29795546],\n",
       "       [ 0.28684149, -0.56202046],\n",
       "       [ 0.51764083,  0.96526809],\n",
       "       [ 0.38603786,  0.01374267],\n",
       "       [ 1.06673795, -0.02746991],\n",
       "       [-0.0220338 , -0.67336171],\n",
       "       [ 0.22314563,  0.51658664],\n",
       "       [-0.88338853,  0.70110336],\n",
       "       [ 0.18564809,  0.17156986],\n",
       "       [-0.06229749,  0.3606729 ],\n",
       "       [ 0.89933758,  0.82531933],\n",
       "       [ 0.26516411, -0.03906867],\n",
       "       [-0.15989763,  0.65656872],\n",
       "       [ 0.0111527 ,  0.13390245],\n",
       "       [-0.26942143, -0.42215965],\n",
       "       [-0.24641274,  0.55560843],\n",
       "       [-1.19573449, -0.65412336],\n",
       "       [-0.92272864, -0.47424498],\n",
       "       [ 0.2313728 ,  0.71758564],\n",
       "       [-0.70881607,  0.47004853],\n",
       "       [-1.09305938,  0.81980325],\n",
       "       [ 0.52350731,  0.3769029 ],\n",
       "       [-0.71786926,  0.03192209],\n",
       "       [ 0.71111192,  0.53972591],\n",
       "       [-0.31390259,  0.52510658],\n",
       "       [-0.31035122,  0.18368437],\n",
       "       [ 1.16423128,  0.02219089],\n",
       "       [-0.37241742,  0.76275339],\n",
       "       [-0.06939159,  0.15029222],\n",
       "       [-0.4522767 , -0.01130911],\n",
       "       [ 0.87003685,  0.65028978],\n",
       "       [-0.46857754, -0.2812264 ],\n",
       "       [ 0.05139572,  0.86102339],\n",
       "       [-0.69298366, -0.50029604],\n",
       "       [ 0.5773081 ,  1.01426313],\n",
       "       [-0.46637452, -0.76338311]])"
      ]
     },
     "execution_count": 7,
     "metadata": {},
     "output_type": "execute_result"
    }
   ],
   "source": [
    "X"
   ]
  },
  {
   "cell_type": "code",
   "execution_count": 8,
   "metadata": {},
   "outputs": [
    {
     "data": {
      "text/plain": [
       "array([1, 1, 0, 1, 1, 0, 0, 1, 1, 1, 1, 0, 1, 1, 1, 0, 0, 0, 1, 0, 0, 1,\n",
       "       1, 1, 0, 0, 1, 0, 0, 0, 1, 1, 1, 1, 1, 0, 0, 1, 0, 0, 1, 1, 1, 0,\n",
       "       1, 0, 0, 1, 0, 1, 0, 1, 0, 0, 1, 0, 0, 1, 0, 1, 0, 1, 1, 0, 0, 1,\n",
       "       0, 1, 0, 1, 1, 0, 1, 1, 0, 1, 0, 1, 1, 0, 0, 0, 0, 0, 0, 1, 0, 0,\n",
       "       1, 1, 0, 0, 1, 1, 0, 1, 0, 1, 0, 0])"
      ]
     },
     "execution_count": 8,
     "metadata": {},
     "output_type": "execute_result"
    }
   ],
   "source": [
    "y"
   ]
  },
  {
   "cell_type": "code",
   "execution_count": 10,
   "metadata": {},
   "outputs": [
    {
     "data": {
      "text/plain": [
       "numpy.ndarray"
      ]
     },
     "execution_count": 10,
     "metadata": {},
     "output_type": "execute_result"
    }
   ],
   "source": [
    "type(X)"
   ]
  },
  {
   "cell_type": "code",
   "execution_count": 11,
   "metadata": {},
   "outputs": [
    {
     "data": {
      "text/plain": [
       "numpy.ndarray"
      ]
     },
     "execution_count": 11,
     "metadata": {},
     "output_type": "execute_result"
    }
   ],
   "source": [
    "type(y)"
   ]
  },
  {
   "cell_type": "code",
   "execution_count": 12,
   "metadata": {
    "collapsed": true
   },
   "outputs": [],
   "source": [
    "y_named = np.array([\"blue\", \"red\"])[y]"
   ]
  },
  {
   "cell_type": "code",
   "execution_count": 13,
   "metadata": {},
   "outputs": [
    {
     "data": {
      "text/plain": [
       "array(['red', 'red', 'blue', 'red', 'red', 'blue', 'blue', 'red', 'red',\n",
       "       'red', 'red', 'blue', 'red', 'red', 'red', 'blue', 'blue', 'blue',\n",
       "       'red', 'blue', 'blue', 'red', 'red', 'red', 'blue', 'blue', 'red',\n",
       "       'blue', 'blue', 'blue', 'red', 'red', 'red', 'red', 'red', 'blue',\n",
       "       'blue', 'red', 'blue', 'blue', 'red', 'red', 'red', 'blue', 'red',\n",
       "       'blue', 'blue', 'red', 'blue', 'red', 'blue', 'red', 'blue',\n",
       "       'blue', 'red', 'blue', 'blue', 'red', 'blue', 'red', 'blue', 'red',\n",
       "       'red', 'blue', 'blue', 'red', 'blue', 'red', 'blue', 'red', 'red',\n",
       "       'blue', 'red', 'red', 'blue', 'red', 'blue', 'red', 'red', 'blue',\n",
       "       'blue', 'blue', 'blue', 'blue', 'blue', 'red', 'blue', 'blue',\n",
       "       'red', 'red', 'blue', 'blue', 'red', 'red', 'blue', 'red', 'blue',\n",
       "       'red', 'blue', 'blue'], dtype='<U4')"
      ]
     },
     "execution_count": 13,
     "metadata": {},
     "output_type": "execute_result"
    }
   ],
   "source": [
    "y_named"
   ]
  },
  {
   "cell_type": "code",
   "execution_count": 15,
   "metadata": {},
   "outputs": [],
   "source": [
    "blue_red = np.array([\"blue\", \"red\"])"
   ]
  },
  {
   "cell_type": "code",
   "execution_count": 17,
   "metadata": {},
   "outputs": [
    {
     "data": {
      "text/plain": [
       "'blue'"
      ]
     },
     "execution_count": 17,
     "metadata": {},
     "output_type": "execute_result"
    }
   ],
   "source": [
    "blue_red[0]"
   ]
  },
  {
   "cell_type": "code",
   "execution_count": 18,
   "metadata": {},
   "outputs": [
    {
     "data": {
      "text/plain": [
       "'red'"
      ]
     },
     "execution_count": 18,
     "metadata": {},
     "output_type": "execute_result"
    }
   ],
   "source": [
    "blue_red[1]"
   ]
  },
  {
   "cell_type": "code",
   "execution_count": 19,
   "metadata": {},
   "outputs": [
    {
     "data": {
      "text/plain": [
       "array(['red', 'red', 'blue', 'red', 'red', 'blue', 'blue', 'red', 'red',\n",
       "       'red', 'red', 'blue', 'red', 'red', 'red', 'blue', 'blue', 'blue',\n",
       "       'red', 'blue', 'blue', 'red', 'red', 'red', 'blue', 'blue', 'red',\n",
       "       'blue', 'blue', 'blue', 'red', 'red', 'red', 'red', 'red', 'blue',\n",
       "       'blue', 'red', 'blue', 'blue', 'red', 'red', 'red', 'blue', 'red',\n",
       "       'blue', 'blue', 'red', 'blue', 'red', 'blue', 'red', 'blue',\n",
       "       'blue', 'red', 'blue', 'blue', 'red', 'blue', 'red', 'blue', 'red',\n",
       "       'red', 'blue', 'blue', 'red', 'blue', 'red', 'blue', 'red', 'red',\n",
       "       'blue', 'red', 'red', 'blue', 'red', 'blue', 'red', 'red', 'blue',\n",
       "       'blue', 'blue', 'blue', 'blue', 'blue', 'red', 'blue', 'blue',\n",
       "       'red', 'red', 'blue', 'blue', 'red', 'red', 'blue', 'red', 'blue',\n",
       "       'red', 'blue', 'blue'], dtype='<U4')"
      ]
     },
     "execution_count": 19,
     "metadata": {},
     "output_type": "execute_result"
    }
   ],
   "source": [
    "blue_red[y]\n",
    "# index가 0인 blue가 y의 0값들에 매핑\n",
    "# index가 1인 red가 y의 1값들에 매핑 \n",
    "# (numpy.ndarray A)[숫자로 이루어진 numpy.ndarray B]\n",
    "# (numpy.ndarray A)[변환될 numpy.ndarray B]"
   ]
  },
  {
   "cell_type": "code",
   "execution_count": 20,
   "metadata": {},
   "outputs": [
    {
     "data": {
      "text/plain": [
       "numpy.ndarray"
      ]
     },
     "execution_count": 20,
     "metadata": {},
     "output_type": "execute_result"
    }
   ],
   "source": [
    "type(blue_red)"
   ]
  },
  {
   "cell_type": "code",
   "execution_count": 21,
   "metadata": {},
   "outputs": [
    {
     "data": {
      "text/plain": [
       "numpy.ndarray"
      ]
     },
     "execution_count": 21,
     "metadata": {},
     "output_type": "execute_result"
    }
   ],
   "source": [
    "type(y)"
   ]
  },
  {
   "cell_type": "code",
   "execution_count": 23,
   "metadata": {},
   "outputs": [
    {
     "data": {
      "text/plain": [
       "array(['red', 'blue'], dtype='<U4')"
      ]
     },
     "execution_count": 23,
     "metadata": {},
     "output_type": "execute_result"
    }
   ],
   "source": [
    "blue_red[np.array([1, 0])]"
   ]
  },
  {
   "cell_type": "code",
   "execution_count": 24,
   "metadata": {
    "collapsed": true
   },
   "outputs": [],
   "source": [
    "X_train, X_test, y_train_named, y_test_named, y_train, y_test = \\\n",
    "        train_test_split(X, y_named, y, random_state=0)\n",
    "    # train:test = 75:25의 비율로 split"
   ]
  },
  {
   "cell_type": "code",
   "execution_count": 28,
   "metadata": {},
   "outputs": [
    {
     "data": {
      "text/plain": [
       "75"
      ]
     },
     "execution_count": 28,
     "metadata": {},
     "output_type": "execute_result"
    }
   ],
   "source": [
    "len(y_train_named)"
   ]
  },
  {
   "cell_type": "code",
   "execution_count": 27,
   "metadata": {},
   "outputs": [
    {
     "data": {
      "text/plain": [
       "25"
      ]
     },
     "execution_count": 27,
     "metadata": {},
     "output_type": "execute_result"
    }
   ],
   "source": [
    "len(y_test_named)"
   ]
  },
  {
   "cell_type": "code",
   "execution_count": 29,
   "metadata": {},
   "outputs": [
    {
     "data": {
      "text/plain": [
       "100"
      ]
     },
     "execution_count": 29,
     "metadata": {},
     "output_type": "execute_result"
    }
   ],
   "source": [
    "len(blue_red[y])"
   ]
  },
  {
   "cell_type": "code",
   "execution_count": 30,
   "metadata": {
    "collapsed": true
   },
   "outputs": [],
   "source": [
    "gbrt = GradientBoostingClassifier(random_state=0)"
   ]
  },
  {
   "cell_type": "code",
   "execution_count": 32,
   "metadata": {},
   "outputs": [
    {
     "data": {
      "text/plain": [
       "GradientBoostingClassifier(criterion='friedman_mse', init=None,\n",
       "              learning_rate=0.1, loss='deviance', max_depth=3,\n",
       "              max_features=None, max_leaf_nodes=None,\n",
       "              min_impurity_decrease=0.0, min_impurity_split=None,\n",
       "              min_samples_leaf=1, min_samples_split=2,\n",
       "              min_weight_fraction_leaf=0.0, n_estimators=100,\n",
       "              presort='auto', random_state=0, subsample=1.0, verbose=0,\n",
       "              warm_start=False)"
      ]
     },
     "execution_count": 32,
     "metadata": {},
     "output_type": "execute_result"
    }
   ],
   "source": [
    "gbrt"
   ]
  },
  {
   "cell_type": "code",
   "execution_count": 34,
   "metadata": {},
   "outputs": [
    {
     "data": {
      "text/plain": [
       "GradientBoostingClassifier(criterion='friedman_mse', init=None,\n",
       "              learning_rate=0.1, loss='deviance', max_depth=3,\n",
       "              max_features=None, max_leaf_nodes=None,\n",
       "              min_impurity_decrease=0.0, min_impurity_split=None,\n",
       "              min_samples_leaf=1, min_samples_split=2,\n",
       "              min_weight_fraction_leaf=0.0, n_estimators=100,\n",
       "              presort='auto', random_state=0, subsample=1.0, verbose=0,\n",
       "              warm_start=False)"
      ]
     },
     "execution_count": 34,
     "metadata": {},
     "output_type": "execute_result"
    }
   ],
   "source": [
    "gbrt.fit(X_train, y_train_named)"
   ]
  },
  {
   "cell_type": "markdown",
   "metadata": {},
   "source": [
    "- 분류를 예측한 결과에 대하여 어느 정도로 확신하는지는 불확실성 추정으로 알아볼 수 있다. scikit-learn이 제공해줌\n",
    "- from sklearn.ensemble import GradientBoostingClassifier\n",
    "- from sklearn.datasets import make_circles\n",
    "- numpy.ndarray X, numpy.ndarray y = make_circles(noise, random_state, factor)\n",
    "  - 임의의 데이터셋 만들기\n",
    "- numpy.ndarray A[numpy.ndarray B]\n",
    "  - 숫자 elements B를 A로 라벨링\n",
    "- A1,A2, B1,B2, C1,C2 = train_test_split(A, B, C, random_state)\n",
    "- GradientBoostingClassifier(random_state).fit(A1, B1)"
   ]
  },
  {
   "cell_type": "code",
   "execution_count": null,
   "metadata": {
    "collapsed": true
   },
   "outputs": [],
   "source": []
  }
 ],
 "metadata": {
  "kernelspec": {
   "display_name": "Python 3",
   "language": "python",
   "name": "python3"
  },
  "language_info": {
   "codemirror_mode": {
    "name": "ipython",
    "version": 3
   },
   "file_extension": ".py",
   "mimetype": "text/x-python",
   "name": "python",
   "nbconvert_exporter": "python",
   "pygments_lexer": "ipython3",
   "version": "3.6.3"
  }
 },
 "nbformat": 4,
 "nbformat_minor": 2
}
