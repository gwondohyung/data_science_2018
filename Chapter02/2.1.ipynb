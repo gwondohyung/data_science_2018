{
 "cells": [
  {
   "cell_type": "markdown",
   "metadata": {},
   "source": [
    "## 2. Supervised Learning\n",
    "### 2.1 Classification and Regression"
   ]
  },
  {
   "cell_type": "markdown",
   "metadata": {},
   "source": [
    "- 지도 학습은 입력과 출력을 학습하게 하여 모델을 만들고, 이전에 본 적 없는 새로운 입력값에 대해 정확한 출력을 예측하는 것을 목표로 한다."
   ]
  },
  {
   "cell_type": "markdown",
   "metadata": {},
   "source": [
    "- 지도 학습에는 **분류(Classification)**와 **회귀(Regression)**가 있다.\n",
    "#### 분류\n",
    "- 분류는 미리 정해놓은 N개의 클래스 중 하나의 클래스로 예측하는 것을 목표로 한다.\n",
    "- target 데이터셋의 모습이 정수의 형태로 나타난다."
   ]
  },
  {
   "cell_type": "code",
   "execution_count": 2,
   "metadata": {},
   "outputs": [
    {
     "name": "stdout",
     "output_type": "stream",
     "text": [
      "X.shape: (26, 2)\n",
      "y.shape: (26,)\n",
      "y:\n",
      "[1 0 1 0 0 1 1 0 1 1 1 1 0 0 1 1 1 0 0 1 0 0 0 0 1 0]\n"
     ]
    }
   ],
   "source": [
    "import mglearn\n",
    "import matplotlib.pyplot as plt\n",
    "\n",
    "# generate dataset\n",
    "X, y = mglearn.datasets.make_forge()\n",
    "print(\"X.shape: {}\".format(X.shape))\n",
    "# print(\"X:\\n{}\".format(X))\n",
    "print(\"y.shape: {}\".format(y.shape))\n",
    "print(\"y:\\n{}\".format(y))"
   ]
  },
  {
   "cell_type": "markdown",
   "metadata": {},
   "source": [
    "#### 회귀\n",
    "- 회귀는 여러 개의 데이터를 대표하는 하나의 모델을 세운 다음, 새로운 입력 데이터에 대하여 실수 형태의 출력값을 예측하는 것을 목표로 한다.\n",
    "- target 데이터셋의 모습을 살펴보면 실수의 형태로 나타난다."
   ]
  },
  {
   "cell_type": "code",
   "execution_count": 4,
   "metadata": {},
   "outputs": [
    {
     "name": "stdout",
     "output_type": "stream",
     "text": [
      "X.shape: (40, 1)\n",
      "y.shape: (40,)\n",
      "y:\n",
      "[-0.44822073  0.33122576  0.77932073  0.03497884 -1.38773632 -2.47196233\n",
      " -1.52730805  1.49417157  1.00032374  0.22956153 -1.05979555  0.7789638\n",
      "  0.75418806 -1.51369739 -1.67303415 -0.90496988  0.08448544 -0.52734666\n",
      " -0.54114599 -0.3409073   0.21778193 -1.12469096  0.37299129  0.09756349\n",
      " -0.98618122  0.96695428 -1.13455014  0.69798591  0.43655826 -0.95652133\n",
      "  0.03527881 -2.08581717 -0.47411033  1.53708251  0.86893293  1.87664889\n",
      "  0.0945257  -1.41502356  0.25438895  0.09398858]\n"
     ]
    }
   ],
   "source": [
    "import mglearn\n",
    "import matplotlib.pyplot as plt\n",
    "\n",
    "X, y = mglearn.datasets.make_wave(n_samples=40)\n",
    "print(\"X.shape: {}\".format(X.shape))\n",
    "# print(\"X:\\n{}\".format(X))\n",
    "print(\"y.shape: {}\".format(y.shape))\n",
    "print(\"y:\\n{}\".format(y))"
   ]
  },
  {
   "cell_type": "markdown",
   "metadata": {},
   "source": [
    "- 분류와 회귀의 결정적인 차이는 **연속성**이다. value와 value 사이에 연속성이 있다면 회귀문제이며, value들 사이에 연속성이 없다면 분류문제이다.\n",
    "- 예를 들면, 어떤 도시의 인구 추이를 예측하고자 하는 경우에는 이전 년도의 인구추이와 다음 년도의 인구 추이 사이에 연속성이 존재한다. 따라서 회귀라고 볼 수 있다.\n",
    "- 그러나 어떤 사람의 감정을 예측하고자 할 경우에는 감정을 나타내는 라벨 사이에 연속성이 존재하지 않는다. 따라서 분류로 볼 수 있다."
   ]
  },
  {
   "cell_type": "code",
   "execution_count": null,
   "metadata": {
    "collapsed": true
   },
   "outputs": [],
   "source": []
  }
 ],
 "metadata": {
  "kernelspec": {
   "display_name": "Python 3",
   "language": "python",
   "name": "python3"
  },
  "language_info": {
   "codemirror_mode": {
    "name": "ipython",
    "version": 3
   },
   "file_extension": ".py",
   "mimetype": "text/x-python",
   "name": "python",
   "nbconvert_exporter": "python",
   "pygments_lexer": "ipython3",
   "version": "3.6.3"
  }
 },
 "nbformat": 4,
 "nbformat_minor": 2
}
