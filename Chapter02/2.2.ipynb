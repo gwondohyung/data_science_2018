{
 "cells": [
  {
   "cell_type": "markdown",
   "metadata": {},
   "source": [
    "## 2. Supervised Learning\n",
    "### 2.2 Generalization, Overfitting and Underfitting"
   ]
  },
  {
   "cell_type": "markdown",
   "metadata": {},
   "source": [
    "- 일반화란, 학습 데이터에 대해서 뿐만 아니라 테스트 데이터에 대해서도 어느 정도의 정확도를 보일 때를 의미한다.\n",
    "- 주어진 학습 데이터에 대해서 100% 정확도를 달성한다는 것은 무의미하다. 우리의 목적은 새로운 데이터에 대해 예측을 정확히 수행하는가에 대한 것이다.\n",
    "- 이와 같이 가지고 있는 모든 정보를 활용하여 복잡한 모델을 만들면 과적합되었다고 한다.\n",
    "- 반면 너무 단순한 모델을 사용할 경우 과소적합의 문제가 발생할 수 있다."
   ]
  },
  {
   "cell_type": "markdown",
   "metadata": {},
   "source": [
    "<img src=\"images/overfitting_underfitting_cartoon.png\" alt=\"model_complexity\" style=\"width: 50%;\"/>"
   ]
  },
  {
   "cell_type": "markdown",
   "metadata": {},
   "source": [
    "- 과소적합과 과대적합의 절충점을 찾아야 한다.\n",
    "- 또한 Training 데이터의 양도 성능에 영향을 미친다."
   ]
  },
  {
   "cell_type": "code",
   "execution_count": null,
   "metadata": {
    "collapsed": true
   },
   "outputs": [],
   "source": []
  }
 ],
 "metadata": {
  "kernelspec": {
   "display_name": "Python 3",
   "language": "python",
   "name": "python3"
  },
  "language_info": {
   "codemirror_mode": {
    "name": "ipython",
    "version": 3
   },
   "file_extension": ".py",
   "mimetype": "text/x-python",
   "name": "python",
   "nbconvert_exporter": "python",
   "pygments_lexer": "ipython3",
   "version": "3.6.3"
  }
 },
 "nbformat": 4,
 "nbformat_minor": 2
}
