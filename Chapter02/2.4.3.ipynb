{
 "cells": [
  {
   "cell_type": "markdown",
   "metadata": {},
   "source": [
    "## 다중 분류에서의 불확실성"
   ]
  },
  {
   "cell_type": "code",
   "execution_count": 22,
   "metadata": {},
   "outputs": [],
   "source": [
    "from sklearn.datasets import load_iris\n",
    "from sklearn.model_selection import train_test_split\n",
    "from sklearn.ensemble import GradientBoostingClassifier\n",
    "import numpy as np\n",
    "from sklearn.linear_model import LogisticRegression"
   ]
  },
  {
   "cell_type": "code",
   "execution_count": 2,
   "metadata": {
    "collapsed": true
   },
   "outputs": [],
   "source": [
    "iris = load_iris()"
   ]
  },
  {
   "cell_type": "code",
   "execution_count": 8,
   "metadata": {
    "collapsed": true
   },
   "outputs": [],
   "source": [
    "X_train, X_test, y_train, y_test = train_test_split(iris.data, iris.target, random_state=0)"
   ]
  },
  {
   "cell_type": "code",
   "execution_count": 9,
   "metadata": {},
   "outputs": [],
   "source": [
    "gbrt = GradientBoostingClassifier(random_state=0).fit(X_train, y_train)"
   ]
  },
  {
   "cell_type": "code",
   "execution_count": 11,
   "metadata": {},
   "outputs": [
    {
     "data": {
      "text/plain": [
       "array([[-4.52759364, -4.85516608,  4.92061892],\n",
       "       [-4.52669672,  4.97939483, -5.19277184],\n",
       "       [ 4.80934868, -4.49789689, -5.1552818 ],\n",
       "       [-4.52529793, -5.21900992,  5.96758268],\n",
       "       [ 4.80934868, -5.0263473 , -5.1552818 ],\n",
       "       [-4.52564385, -4.70083878,  5.7147898 ],\n",
       "       [ 4.80934868, -5.0263473 , -5.1552818 ],\n",
       "       [-4.52707037,  5.31510258, -3.58061927],\n",
       "       [-4.52680207,  5.5940426 , -4.77725785],\n",
       "       [-4.52647447,  5.03715936, -5.19277184],\n",
       "       [-4.52649821, -2.40587569,  3.74011699],\n",
       "       [-4.52727463,  5.69828001, -3.86115741],\n",
       "       [-4.52647447,  4.96911189, -5.19277184],\n",
       "       [-4.52680207,  4.69046346, -3.48403528],\n",
       "       [-4.52674277,  4.96911189, -5.19277184],\n",
       "       [ 4.80934868, -5.0263473 , -5.1552818 ],\n",
       "       [-4.52674277,  4.63269893, -3.48403528],\n",
       "       [-4.52697938,  5.08411948, -5.16395818],\n",
       "       [ 4.80934868, -5.0263473 , -5.1552818 ],\n",
       "       [ 4.80934868, -5.0263473 , -5.1552818 ],\n",
       "       [-4.52759364,  0.07366717,  5.56956759],\n",
       "       [-4.5280036 ,  4.73742358, -3.61195551],\n",
       "       [ 4.80934868, -5.0263473 , -5.1552818 ],\n",
       "       [ 4.80934868, -5.0263473 , -5.1552818 ],\n",
       "       [-4.52470203, -0.57484801,  6.17044744],\n",
       "       [ 4.80934868, -5.0263473 , -5.1552818 ],\n",
       "       [ 4.80934868, -5.0263473 , -5.1552818 ],\n",
       "       [-4.52674277,  5.03715936, -5.19277184],\n",
       "       [-4.52697938,  4.34584014, -5.16401874],\n",
       "       [ 4.80934868, -5.0263473 , -5.1552818 ],\n",
       "       [-4.52529793, -5.21900992,  5.59046055],\n",
       "       [-4.5280036 ,  3.70349979, -3.61195551],\n",
       "       [ 4.80934868, -5.0263473 , -5.1552818 ],\n",
       "       [-4.52497033, -1.58480666,  6.20020854],\n",
       "       [-4.52502963, -5.21900992,  5.96758268],\n",
       "       [-4.52697938,  4.34584014, -5.16401874],\n",
       "       [ 4.80934868, -4.49789689, -5.1552818 ],\n",
       "       [-4.52465165, -2.81997136,  5.44885355]])"
      ]
     },
     "execution_count": 11,
     "metadata": {},
     "output_type": "execute_result"
    }
   ],
   "source": [
    "gbrt.decision_function(X_test)"
   ]
  },
  {
   "cell_type": "code",
   "execution_count": 10,
   "metadata": {},
   "outputs": [
    {
     "name": "stdout",
     "output_type": "stream",
     "text": [
      "결정 함수의 결과 형태: (38, 3)\n"
     ]
    }
   ],
   "source": [
    "print(\"결정 함수의 결과 형태: {}\".format(gbrt.decision_function(X_test).shape))"
   ]
  },
  {
   "cell_type": "code",
   "execution_count": 14,
   "metadata": {},
   "outputs": [
    {
     "name": "stdout",
     "output_type": "stream",
     "text": [
      "가장 큰 결정 함수의 인덱스:\n",
      "[2 1 0 2 0 2 0 1 1 1 2 1 1 1 1 0 1 1 0 0 2 1 0 0 2 0 0 1 1 0 2 1 0 2 2 1 0\n",
      " 2]\n"
     ]
    }
   ],
   "source": [
    "print(\"가장 큰 결정 함수의 인덱스:\\n{}\".format(np.argmax(gbrt.decision_function(X_test), axis=1)))"
   ]
  },
  {
   "cell_type": "code",
   "execution_count": 15,
   "metadata": {},
   "outputs": [
    {
     "data": {
      "text/plain": [
       "array([2, 1, 0, 2, 0, 2, 0, 1, 1, 1, 2, 1, 1, 1, 1, 0, 1, 1, 0, 0, 2, 1,\n",
       "       0, 0, 2, 0, 0, 1, 1, 0, 2, 1, 0, 2, 2, 1, 0, 2])"
      ]
     },
     "execution_count": 15,
     "metadata": {},
     "output_type": "execute_result"
    }
   ],
   "source": [
    "gbrt.predict(X_test)"
   ]
  },
  {
   "cell_type": "code",
   "execution_count": 16,
   "metadata": {},
   "outputs": [
    {
     "data": {
      "text/plain": [
       "array([[7.88196528e-05, 5.68030443e-05, 9.99864377e-01],\n",
       "       [7.43888749e-05, 9.99887396e-01, 3.82151210e-05],\n",
       "       [9.99862220e-01, 9.07516999e-05, 4.70279586e-05],\n",
       "       [2.77320382e-05, 1.38581896e-05, 9.99958410e-01],\n",
       "       [9.99899469e-01, 5.35017329e-05, 4.70297106e-05],\n",
       "       [3.56950224e-05, 2.99585968e-05, 9.99934346e-01],\n",
       "       [9.99899469e-01, 5.35017329e-05, 4.70297106e-05],\n",
       "       [5.31515622e-05, 9.99809901e-01, 1.36947631e-04],\n",
       "       [4.02292497e-05, 9.99928454e-01, 3.13162948e-05],\n",
       "       [7.02296381e-05, 9.99893700e-01, 3.60704168e-05],\n",
       "       [2.56338600e-04, 2.13692198e-03, 9.97606739e-01],\n",
       "       [3.62286110e-05, 9.99893246e-01, 7.05249385e-05],\n",
       "       [7.51743742e-05, 9.99886216e-01, 3.86100667e-05],\n",
       "       [9.92720475e-05, 9.99619088e-01, 2.81640330e-04],\n",
       "       [7.51542096e-05, 9.99886236e-01, 3.86100675e-05],\n",
       "       [9.99899469e-01, 5.35017329e-05, 4.70297106e-05],\n",
       "       [1.05179164e-04, 9.99596439e-01, 2.98381451e-04],\n",
       "       [6.69743221e-05, 9.99897604e-01, 3.54219079e-05],\n",
       "       [9.99899469e-01, 5.35017329e-05, 4.70297106e-05],\n",
       "       [9.99899469e-01, 5.35017329e-05, 4.70297106e-05],\n",
       "       [4.10262925e-05, 4.08662184e-03, 9.95872352e-01],\n",
       "       [9.46089662e-05, 9.99668926e-01, 2.36465030e-04],\n",
       "       [9.99899469e-01, 5.35017329e-05, 4.70297106e-05],\n",
       "       [9.99899469e-01, 5.35017329e-05, 4.70297106e-05],\n",
       "       [2.26274268e-05, 1.17499218e-03, 9.98802380e-01],\n",
       "       [9.99899469e-01, 5.35017329e-05, 4.70297106e-05],\n",
       "       [9.99899469e-01, 5.35017329e-05, 4.70297106e-05],\n",
       "       [7.02107997e-05, 9.99893719e-01, 3.60704175e-05],\n",
       "       [1.40116861e-04, 9.99785782e-01, 7.41016237e-05],\n",
       "       [9.99899469e-01, 5.35017329e-05, 4.70297106e-05],\n",
       "       [4.04348259e-05, 2.02059971e-05, 9.99939359e-01],\n",
       "       [2.65888298e-04, 9.99069552e-01, 6.64559470e-04],\n",
       "       [9.99899469e-01, 5.35017329e-05, 4.70297106e-05],\n",
       "       [2.19747459e-05, 4.15738954e-04, 9.99562286e-01],\n",
       "       [2.77394794e-05, 1.38581895e-05, 9.99958402e-01],\n",
       "       [1.40116861e-04, 9.99785782e-01, 7.41016237e-05],\n",
       "       [9.99862220e-01, 9.07516999e-05, 4.70279586e-05],\n",
       "       [4.66047468e-05, 2.56308729e-04, 9.99697087e-01]])"
      ]
     },
     "execution_count": 16,
     "metadata": {},
     "output_type": "execute_result"
    }
   ],
   "source": [
    "gbrt.predict_proba(X_test)"
   ]
  },
  {
   "cell_type": "code",
   "execution_count": 17,
   "metadata": {},
   "outputs": [
    {
     "name": "stdout",
     "output_type": "stream",
     "text": [
      "합:[1. 1. 1. 1. 1. 1. 1. 1. 1. 1. 1. 1. 1. 1. 1. 1. 1. 1. 1. 1. 1. 1. 1. 1.\n",
      " 1. 1. 1. 1. 1. 1. 1. 1. 1. 1. 1. 1. 1. 1.]\n"
     ]
    }
   ],
   "source": [
    "print(\"합:{}\".format(np.sum(gbrt.predict_proba(X_test), axis=1)))"
   ]
  },
  {
   "cell_type": "code",
   "execution_count": 19,
   "metadata": {},
   "outputs": [
    {
     "name": "stdout",
     "output_type": "stream",
     "text": [
      "가장 큰 예측 확률의 인덱스:\n",
      "[2 1 0 2 0 2 0 1 1 1 2 1 1 1 1 0 1 1 0 0 2 1 0 0 2 0 0 1 1 0 2 1 0 2 2 1 0\n",
      " 2]\n"
     ]
    }
   ],
   "source": [
    "print(\"가장 큰 예측 확률의 인덱스:\\n{}\".format(np.argmax(gbrt.predict_proba(X_test), axis=1)))"
   ]
  },
  {
   "cell_type": "code",
   "execution_count": 20,
   "metadata": {},
   "outputs": [
    {
     "data": {
      "text/plain": [
       "array([2, 1, 0, 2, 0, 2, 0, 1, 1, 1, 2, 1, 1, 1, 1, 0, 1, 1, 0, 0, 2, 1,\n",
       "       0, 0, 2, 0, 0, 1, 1, 0, 2, 1, 0, 2, 2, 1, 0, 2])"
      ]
     },
     "execution_count": 20,
     "metadata": {},
     "output_type": "execute_result"
    }
   ],
   "source": [
    "gbrt.predict(X_test)"
   ]
  },
  {
   "cell_type": "code",
   "execution_count": 23,
   "metadata": {},
   "outputs": [],
   "source": [
    "logreg = LogisticRegression()"
   ]
  },
  {
   "cell_type": "code",
   "execution_count": 25,
   "metadata": {},
   "outputs": [],
   "source": [
    "named_target = iris.target_names[y_tarin]"
   ]
  },
  {
   "cell_type": "code",
   "execution_count": 26,
   "metadata": {},
   "outputs": [
    {
     "data": {
      "text/plain": [
       "LogisticRegression(C=1.0, class_weight=None, dual=False, fit_intercept=True,\n",
       "          intercept_scaling=1, max_iter=100, multi_class='ovr', n_jobs=1,\n",
       "          penalty='l2', random_state=None, solver='liblinear', tol=0.0001,\n",
       "          verbose=0, warm_start=False)"
      ]
     },
     "execution_count": 26,
     "metadata": {},
     "output_type": "execute_result"
    }
   ],
   "source": [
    "logreg.fit(X_train, named_target)"
   ]
  },
  {
   "cell_type": "code",
   "execution_count": 27,
   "metadata": {},
   "outputs": [
    {
     "name": "stdout",
     "output_type": "stream",
     "text": [
      "훈련 데이터에 있는 클래스 종류: ['setosa' 'versicolor' 'virginica']\n"
     ]
    }
   ],
   "source": [
    "print(\"훈련 데이터에 있는 클래스 종류: {}\".format(logreg.classes_))"
   ]
  },
  {
   "cell_type": "code",
   "execution_count": 28,
   "metadata": {},
   "outputs": [
    {
     "name": "stdout",
     "output_type": "stream",
     "text": [
      "예측: ['virginica' 'versicolor' 'setosa' 'virginica' 'setosa' 'virginica'\n",
      " 'setosa' 'versicolor' 'versicolor' 'versicolor']\n"
     ]
    }
   ],
   "source": [
    "print(\"예측: {}\".format(logreg.predict(X_test)[:10]))"
   ]
  },
  {
   "cell_type": "code",
   "execution_count": 29,
   "metadata": {
    "collapsed": true
   },
   "outputs": [],
   "source": [
    "argmax_dec_func = np.argmax(logreg.decision_function(X_test), axis=1)"
   ]
  },
  {
   "cell_type": "code",
   "execution_count": 30,
   "metadata": {},
   "outputs": [
    {
     "name": "stdout",
     "output_type": "stream",
     "text": [
      "가장 큰 결정 함수의 인덱스: [2 1 0 2 0 2 0 1 1 1]\n"
     ]
    }
   ],
   "source": [
    "print(\"가장 큰 결정 함수의 인덱스: {}\".format(argmax_dec_func[:10]))"
   ]
  },
  {
   "cell_type": "code",
   "execution_count": 31,
   "metadata": {},
   "outputs": [
    {
     "name": "stdout",
     "output_type": "stream",
     "text": [
      "인덱스를 classes_에 연결: ['virginica' 'versicolor' 'setosa' 'virginica' 'setosa' 'virginica'\n",
      " 'setosa' 'versicolor' 'versicolor' 'versicolor']\n"
     ]
    }
   ],
   "source": [
    "print(\"인덱스를 classes_에 연결: {}\".format(logreg.classes_[argmax_dec_func][:10]))"
   ]
  },
  {
   "cell_type": "code",
   "execution_count": null,
   "metadata": {
    "collapsed": true
   },
   "outputs": [],
   "source": []
  }
 ],
 "metadata": {
  "kernelspec": {
   "display_name": "Python 3",
   "language": "python",
   "name": "python3"
  },
  "language_info": {
   "codemirror_mode": {
    "name": "ipython",
    "version": 3
   },
   "file_extension": ".py",
   "mimetype": "text/x-python",
   "name": "python",
   "nbconvert_exporter": "python",
   "pygments_lexer": "ipython3",
   "version": "3.6.3"
  }
 },
 "nbformat": 4,
 "nbformat_minor": 2
}
